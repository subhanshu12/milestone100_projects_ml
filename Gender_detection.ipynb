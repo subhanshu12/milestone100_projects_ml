{
  "nbformat": 4,
  "nbformat_minor": 0,
  "metadata": {
    "colab": {
      "provenance": []
    },
    "kernelspec": {
      "name": "python3",
      "display_name": "Python 3"
    },
    "language_info": {
      "name": "python"
    }
  },
  "cells": [
    {
      "cell_type": "code",
      "execution_count": 1,
      "metadata": {
        "colab": {
          "base_uri": "https://localhost:8080/",
          "height": 0
        },
        "id": "fljr7eP2KSv_",
        "outputId": "ed9264a6-4c11-4834-d97d-8922efb9a5ef"
      },
      "outputs": [
        {
          "output_type": "stream",
          "name": "stdout",
          "text": [
            "Looking in indexes: https://pypi.org/simple, https://us-python.pkg.dev/colab-wheels/public/simple/\n",
            "Requirement already satisfied: opencv-python in /usr/local/lib/python3.8/dist-packages (4.6.0.66)\n",
            "Requirement already satisfied: numpy>=1.17.3 in /usr/local/lib/python3.8/dist-packages (from opencv-python) (1.21.6)\n"
          ]
        }
      ],
      "source": [
        "!pip install opencv-python"
      ]
    },
    {
      "cell_type": "code",
      "source": [
        "!pip install cvlib"
      ],
      "metadata": {
        "colab": {
          "base_uri": "https://localhost:8080/",
          "height": 0
        },
        "id": "vdIs-2pBKjqK",
        "outputId": "284d5580-127d-43ca-fe59-45426f38a90f"
      },
      "execution_count": 2,
      "outputs": [
        {
          "output_type": "stream",
          "name": "stdout",
          "text": [
            "Looking in indexes: https://pypi.org/simple, https://us-python.pkg.dev/colab-wheels/public/simple/\n",
            "Collecting cvlib\n",
            "  Downloading cvlib-0.2.7.tar.gz (13.1 MB)\n",
            "\u001b[K     |████████████████████████████████| 13.1 MB 4.3 MB/s \n",
            "\u001b[?25hRequirement already satisfied: numpy in /usr/local/lib/python3.8/dist-packages (from cvlib) (1.21.6)\n",
            "Collecting progressbar\n",
            "  Downloading progressbar-2.5.tar.gz (10 kB)\n",
            "Requirement already satisfied: requests in /usr/local/lib/python3.8/dist-packages (from cvlib) (2.23.0)\n",
            "Requirement already satisfied: pillow in /usr/local/lib/python3.8/dist-packages (from cvlib) (7.1.2)\n",
            "Requirement already satisfied: imageio in /usr/local/lib/python3.8/dist-packages (from cvlib) (2.9.0)\n",
            "Requirement already satisfied: imutils in /usr/local/lib/python3.8/dist-packages (from cvlib) (0.5.4)\n",
            "Requirement already satisfied: urllib3!=1.25.0,!=1.25.1,<1.26,>=1.21.1 in /usr/local/lib/python3.8/dist-packages (from requests->cvlib) (1.24.3)\n",
            "Requirement already satisfied: certifi>=2017.4.17 in /usr/local/lib/python3.8/dist-packages (from requests->cvlib) (2022.12.7)\n",
            "Requirement already satisfied: chardet<4,>=3.0.2 in /usr/local/lib/python3.8/dist-packages (from requests->cvlib) (3.0.4)\n",
            "Requirement already satisfied: idna<3,>=2.5 in /usr/local/lib/python3.8/dist-packages (from requests->cvlib) (2.10)\n",
            "Building wheels for collected packages: cvlib, progressbar\n",
            "  Building wheel for cvlib (setup.py) ... \u001b[?25l\u001b[?25hdone\n",
            "  Created wheel for cvlib: filename=cvlib-0.2.7-py3-none-any.whl size=10046383 sha256=a481afcd99fad9afaefcad7a4cad9a1fad7070d0796220d0c58519047524dd69\n",
            "  Stored in directory: /root/.cache/pip/wheels/bb/11/55/82ced947752cc4056335a4ee9c304a93d43ce857230538f0ae\n",
            "  Building wheel for progressbar (setup.py) ... \u001b[?25l\u001b[?25hdone\n",
            "  Created wheel for progressbar: filename=progressbar-2.5-py3-none-any.whl size=12081 sha256=f1c5685fe5db02b68de8fdc3e9d5a1addb4017728c9277178d680d473528e15c\n",
            "  Stored in directory: /root/.cache/pip/wheels/2c/67/ed/d84123843c937d7e7f5ba88a270d11036473144143355e2747\n",
            "Successfully built cvlib progressbar\n",
            "Installing collected packages: progressbar, cvlib\n",
            "Successfully installed cvlib-0.2.7 progressbar-2.5\n"
          ]
        }
      ]
    },
    {
      "cell_type": "code",
      "source": [
        "import cvlib as cv\n",
        "import cv2\n",
        "import numpy as np\n",
        "\n",
        "webcam = cv2.VideoCapture(0)\n",
        "    \n",
        "padding = 20\n",
        "while webcam.isOpened():\n",
        "    status, frame = webcam.read()\n",
        "    face, confidence = cv.detect_face(frame)\n",
        "    for idx, f in enumerate(face):        \n",
        "        (startX,startY) = max(0, f[0]-padding), max(0, f[1]-padding)\n",
        "        (endX,endY) = min(frame.shape[1]-1, f[2]+padding), min(frame.shape[0]-1, f[3]+padding)\n",
        "        cv2.rectangle(frame, (startX,startY), (endX,endY), (0,255,0), 2)\n",
        "        face_crop = np.copy(frame[startY:endY, startX:endX]) \n",
        "        (label, confidence) = cv.detect_gender(face_crop)\n",
        "        idx = np.argmax(confidence)\n",
        "        label = label[idx]\n",
        "        label = \"{}: {:.2f}%\".format(label, confidence[idx] * 100)\n",
        "        Y = startY - 10 if startY - 10 > 10 else startY + 10\n",
        "        cv2.putText(frame, label, (startX,Y), cv2.FONT_HERSHEY_SIMPLEX, 0.7,\n",
        "                    (0,255,0), 2)\n",
        "    cv2.imshow(\"Real-time gender detection\", frame)\n",
        "    # press \"s\" to stop\n",
        "    if cv2.waitKey(1) & 0xFF == ord('s'):\n",
        "        break\n",
        "webcam.release()\n",
        "cv2.destroyAllWindows()        "
      ],
      "metadata": {
        "id": "p2oOA9SDKqsq"
      },
      "execution_count": 5,
      "outputs": []
    },
    {
      "cell_type": "markdown",
      "source": [
        "# ***by - subhanshu tripathi***"
      ],
      "metadata": {
        "id": "9U8I9CQWLmGP"
      }
    }
  ]
}